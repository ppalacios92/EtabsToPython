{
 "cells": [
  {
   "cell_type": "code",
   "execution_count": 1,
   "id": "c1fac0a8",
   "metadata": {},
   "outputs": [],
   "source": [
    "from etabstopython import EtabsModel\n"
   ]
  },
  {
   "cell_type": "markdown",
   "id": "b399c51e",
   "metadata": {},
   "source": [
    "### UNITS"
   ]
  },
  {
   "attachments": {
    "image.png": {
     "image/png": "[encoded data removed]"
    }
   },
   "cell_type": "markdown",
   "id": "32dbf26b",
   "metadata": {},
   "source": [
    "![image.png](attachment:image.png)"
   ]
  },
  {
   "cell_type": "code",
   "execution_count": 2,
   "id": "47d0c696",
   "metadata": {},
   "outputs": [
    {
     "name": "stdout",
     "output_type": "stream",
     "text": [
      "✅ Connected to ETABS.\n",
      "📏 Units set to 12.\n",
      "✅ Loaded Story Definitions: 26 stories.\n",
      "📐 Computed accumulated floor heights: [  0.    4.7   8.4  12.1  15.8  19.5  23.2  26.9  30.6  34.3  38.   41.7\n",
      "  45.4  51.9  55.6  59.3  63.   66.7  70.4  74.1  77.8  81.5  85.2  88.9\n",
      "  92.6  96.3 100. ]\n",
      "✅ Loaded Point Object Connectivity: 1055 connections.\n",
      "✅ Loaded Frame Section Property Definitions: 8 properties.\n",
      "✅ Loaded Frame Section Property Definitions - Concrete Rectangular: 8 properties.\n",
      "✅ Loaded Frame Assignments - Section Properties: 1052 properties.\n",
      "✅ Loaded Beam Object Connectivity: 744 entries.\n",
      "✅ Loaded Column Object Connectivity: 232 entries.\n",
      "✅ Loaded Brace Object Connectivity: 76 entries.\n",
      "✅ Combined linear elements: 1052 total.\n",
      "✅ Loaded Wall Object Connectivity: 156 entries.\n",
      "✅ Loaded Floor Object Connectivity: 52 entries.\n",
      "✅ Processed floor point groups by story: 25 levels.\n",
      "📐 Assigned dimensions to 8 frame sections.\n",
      "✅ Assigned colors to 5 frame sections.\n",
      "✅ Loaded Element Forces - Columns: 66120 entries.\n",
      "✅ Loaded Modal Participating Mass Ratios: 50 entries.\n",
      "✅ Loaded Story Forces: 4940 entries.\n",
      "Unique combos: ['Dead' 'Live' 'Modal' 'SCM' 'Sx_AEE_Tr475y' 'Sy_AEE_Tr475y'\n",
      " 'Spec_Tr475y X' 'Spec_Tr475y Y' '1.2D+1.6L' '1.4D' '1.2D+L'\n",
      " '1.2D+1.0E+1.0L+0.2S (1X)' '1.2D+1.0E+1.0L+0.2S (2X)'\n",
      " '1.2D+1.0E+1.0L+0.2S (3X)' '1.2D+1.0E+1.0L+0.2S (4X)' '0.9D'\n",
      " '0.9D+1.0E (1X)' '0.9D+1.0E (2Y)' '0.9D+1.0E (3X)' '0.9D+1.0E (4X)'\n",
      " 'Envolvente-AEE' '1.2D+1.0E+1.0L+0.2S (1Y)' '1.2D+1.0E+1.0L+0.2S (2Y)'\n",
      " '1.2D+1.0E+1.0L+0.2S (3Y)' '1.2D+1.0E+1.0L+0.2S (4Y)' '0.9D+1.0E (1Y)'\n",
      " '0.9D+1.0E (3Y)' '0.9D+1.0E (4Y)' '0.9D+1.0E (2X)'\n",
      " '0.9D+1.0E (1X)-SpecTr475y' '0.9D+1.0E (1Y)-SpecTr475y'\n",
      " '0.9D+1.0E (2X)-SpecTr475y' '0.9D+1.0E (3X)-SpecTr475y'\n",
      " '0.9D+1.0E (3Y)-SpecTr475y' '0.9D+1.0E (4X)-SpecTr475y'\n",
      " '0.9D+1.0E (4Y)-SpecTr475y' '0.9D+1.0E (2Y)-SpecTr475y'\n",
      " '1.2D+1.0E+1.0L+0.2S (1X)-SpecTr475y'\n",
      " '1.2D+1.0E+1.0L+0.2S (1Y)-SpecTr475y'\n",
      " '1.2D+1.0E+1.0L+0.2S (2X)-SpecTr475y'\n",
      " '1.2D+1.0E+1.0L+0.2S (2Y)-SpecTr475y'\n",
      " '1.2D+1.0E+1.0L+0.2S (3X)-SpecTr475y'\n",
      " '1.2D+1.0E+1.0L+0.2S (4X)-SpecTr475y'\n",
      " '1.2D+1.0E+1.0L+0.2S (4Y)-SpecTr475y'\n",
      " '1.2D+1.0E+1.0L+0.2S (3Y)-SpecTr475y' 'Envolvente-SpecTr475y']\n",
      "✅ Loaded Joint Displacements: 100225 entries.\n",
      "📦 Model Summary:\n",
      "- Units: 12\n",
      "- Name: PRY POST PUCE\n"
     ]
    }
   ],
   "source": [
    "units = 12\n",
    "# Model\n",
    "model = EtabsModel(units=units , name='PRY POST PUCE')\n",
    "# Summary\n",
    "model.summary()"
   ]
  },
  {
   "cell_type": "code",
   "execution_count": null,
   "id": "1981c87b",
   "metadata": {},
   "outputs": [],
   "source": [
    "from etabstopython.plotter import plot_structure_3d\n",
    "plot_structure_3d(model)\n",
    "# %matplotlib widget"
   ]
  },
  {
   "cell_type": "markdown",
   "id": "58b6f670",
   "metadata": {},
   "source": [
    "### Drift"
   ]
  },
  {
   "cell_type": "code",
   "execution_count": null,
   "id": "71550564",
   "metadata": {},
   "outputs": [],
   "source": [
    "Cd = 5.5\n",
    "Ie = 1.25\n",
    "R = 1.0"
   ]
  },
  {
   "cell_type": "code",
   "execution_count": null,
   "id": "94451223",
   "metadata": {},
   "outputs": [],
   "source": [
    "from etabstopython.plotter import plot_story_displacement_bounds\n",
    "from etabstopython.plotter import plot_story_drift_bounds\n",
    "\n",
    "\n",
    "\n",
    "# combos_comp=['1.2D+1.0E+1.0L+0.2S (1X)' , '1.2D+1.0E+1.0L+0.2S (2X)'    , '1.2D+1.0E+1.0L+0.2S (3X)'     , '1.2D+1.0E+1.0L+0.2S (4X)', \n",
    "#              '0.9D+1.0E (1X)'           , '0.9D+1.0E (2X)'              , '0.9D+1.0E (3X)'               , '0.9D+1.0E (4X)', \n",
    "#              '1.2D+1.0E+1.0L+0.2S (1Y)' , '1.2D+1.0E+1.0L+0.2S (2Y)'    , '1.2D+1.0E+1.0L+0.2S (3Y)'     , '1.2D+1.0E+1.0L+0.2S (4Y)', \n",
    "#              '0.9D+1.0E (1Y)'           , '0.9D+1.0E (2Y)'              , '0.9D+1.0E (3Y)'               , '0.9D+1.0E (4Y)' , ]\n",
    "\n",
    "\n",
    "combos_comp=['1.2D+1.6L', '0.9D+1.0E (3Y)']\n",
    "combos_comp=['1.2D+1.6L']\n",
    "\n",
    "\n",
    "\n",
    "highlight_combo='Envolvente-AEE'\n",
    "\n",
    "\n",
    "plot_story_displacement_bounds(model, combos_comp, color=[0.8, 0.8, 0.8], lw=1.0, highlight_combo=highlight_combo , factor=1.0)\n",
    "plot_story_drift_bounds(model, combos_comp, color=[0.8, 0.8, 0.8], lw=1.0, highlight_combo=highlight_combo, factor=Cd*Ie/R)\n"
   ]
  }
 ],
 "metadata": {
  "kernelspec": {
   "display_name": "Python 3",
   "language": "python",
   "name": "python3"
  },
  "language_info": {
   "codemirror_mode": {
    "name": "ipython",
    "version": 3
   },
   "file_extension": ".py",
   "mimetype": "text/x-python",
   "name": "python",
   "nbconvert_exporter": "python",
   "pygments_lexer": "ipython3",
   "version": "3.10.0"
  }
 },
 "nbformat": 4,
 "nbformat_minor": 5
}
