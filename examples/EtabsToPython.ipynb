{
 "cells": [
  {
   "cell_type": "code",
   "execution_count": 1,
   "id": "c1fac0a8",
   "metadata": {},
   "outputs": [],
   "source": [
    "from etabstopython import EtabsModel"
   ]
  },
  {
   "cell_type": "markdown",
   "id": "dc1f9584",
   "metadata": {},
   "source": [
    "### 📐 ETABS Force Unit System Codes\n",
    "\n",
    "| Member name | Value | Description |\n",
    "|-------------|--------|-------------|\n",
    "| lb_in_F     | 1      |             |\n",
    "| lb_ft_F     | 2      |             |\n",
    "| kip_in_F    | 3      |             |\n",
    "| kip_ft_F    | 4      |             |\n",
    "| kN_mm_C     | 5      |             |\n",
    "| kN_m_C      | 6      |             |\n",
    "| kgf_mm_C    | 7      |             |\n",
    "| kgf_m_C     | 8      |             |\n",
    "| N_mm_C      | 9      |             |\n",
    "| N_m_C       | 10     |             |\n",
    "| Ton_mm_C    | 11     |             |\n",
    "| Ton_m_C     | 12     |             |\n",
    "| kN_cm_C     | 13     |             |\n",
    "| kgf_cm_C    | 14     |             |\n",
    "| N_cm_C      | 15     |             |\n",
    "| Ton_cm_C    | 16     |             |\n"
   ]
  },
  {
   "cell_type": "code",
   "execution_count": null,
   "id": "47d0c696",
   "metadata": {},
   "outputs": [
    {
     "name": "stdout",
     "output_type": "stream",
     "text": [
      "✅ Connected to ETABS.\n",
      "📏 Units set to 12.\n"
     ]
    }
   ],
   "source": [
    "units = 12\n",
    "# Model\n",
    "model = EtabsModel(units=units , name='PRY POST PUCE')\n",
    "# Summary\n",
    "model.summary()"
   ]
  },
  {
   "cell_type": "code",
   "execution_count": null,
   "id": "1981c87b",
   "metadata": {},
   "outputs": [],
   "source": [
    "from etabstopython.plotter import plot_structure_3d\n",
    "plot_structure_3d(model)\n"
   ]
  },
  {
   "cell_type": "markdown",
   "id": "6d1561b7",
   "metadata": {},
   "source": [
    "### Modal"
   ]
  },
  {
   "cell_type": "code",
   "execution_count": null,
   "id": "32313dbd",
   "metadata": {},
   "outputs": [],
   "source": [
    "model.modal_participating_mass_ratios"
   ]
  },
  {
   "cell_type": "markdown",
   "id": "58b6f670",
   "metadata": {},
   "source": [
    "### Drift"
   ]
  },
  {
   "cell_type": "code",
   "execution_count": null,
   "id": "71550564",
   "metadata": {},
   "outputs": [],
   "source": [
    "Cd = 5.5\n",
    "Ie = 1.25\n",
    "R = 7.0\n",
    "\n",
    "print(Cd*Ie/R)"
   ]
  },
  {
   "cell_type": "code",
   "execution_count": null,
   "id": "94451223",
   "metadata": {},
   "outputs": [],
   "source": [
    "from etabstopython.plotter import plot_story_displacement_bounds\n",
    "from etabstopython.plotter import plot_story_drift_bounds\n",
    "\n",
    "\n",
    "\n",
    "combos_comp=['1.2D+1.0E+1.0L+0.2S (1X)' , '1.2D+1.0E+1.0L+0.2S (2X)'    , '1.2D+1.0E+1.0L+0.2S (3X)'     , '1.2D+1.0E+1.0L+0.2S (4X)', \n",
    "             '0.9D+1.0E (1X)'           , '0.9D+1.0E (2X)'              , '0.9D+1.0E (3X)'               , '0.9D+1.0E (4X)', \n",
    "             '1.2D+1.0E+1.0L+0.2S (1Y)' , '1.2D+1.0E+1.0L+0.2S (2Y)'    , '1.2D+1.0E+1.0L+0.2S (3Y)'     , '1.2D+1.0E+1.0L+0.2S (4Y)', \n",
    "             '0.9D+1.0E (1Y)'           , '0.9D+1.0E (2Y)'              , '0.9D+1.0E (3Y)'               , '0.9D+1.0E (4Y)' , ]\n",
    "\n",
    "\n",
    "# combos_comp=['1.2D+1.6L', '1.2D+1.0E+1.0L+0.2S (3X)' ]\n",
    "combos_comp=['1.2D+1.6L']\n",
    "highlight_combo='Envolvente-AEE'\n",
    "\n",
    "\n",
    "plot_story_displacement_bounds(model, combos_comp, color=[0.8, 0.8, 0.8], lw=1.0, highlight_combo=highlight_combo , factor=1.0)\n",
    "plot_story_drift_bounds(model, combos_comp, color=[0.8, 0.8, 0.8], lw=1.0, highlight_combo=highlight_combo, factor=Cd*Ie/R)\n"
   ]
  },
  {
   "cell_type": "markdown",
   "id": "7f5fb6b4",
   "metadata": {},
   "source": [
    "### Elements"
   ]
  },
  {
   "cell_type": "code",
   "execution_count": null,
   "id": "33306900",
   "metadata": {},
   "outputs": [],
   "source": [
    "from etabstopython.plotter import plot_story_shear_bounds\n",
    "\n",
    "\n",
    "combos_comp=['1.2D+1.0E+1.0L+0.2S (1X)' , '1.2D+1.0E+1.0L+0.2S (2X)'    , '1.2D+1.0E+1.0L+0.2S (3X)'     , '1.2D+1.0E+1.0L+0.2S (4X)', \n",
    "             '0.9D+1.0E (1X)'           , '0.9D+1.0E (2X)'              , '0.9D+1.0E (3X)'               , '0.9D+1.0E (4X)', \n",
    "             '1.2D+1.0E+1.0L+0.2S (1Y)' , '1.2D+1.0E+1.0L+0.2S (2Y)'    , '1.2D+1.0E+1.0L+0.2S (3Y)'     , '1.2D+1.0E+1.0L+0.2S (4Y)', \n",
    "             '0.9D+1.0E (1Y)'           , '0.9D+1.0E (2Y)'              , '0.9D+1.0E (3Y)'               , '0.9D+1.0E (4Y)' , ]\n",
    "\n",
    "highlight_combo='Envolvente-AEE'\n",
    "\n",
    "plot_story_shear_bounds(model, combos_comp, color=[0.7, 0.7, 0.7], lw=1.0, highlight_combo=highlight_combo)\n",
    "\n"
   ]
  }
 ],
 "metadata": {
  "kernelspec": {
   "display_name": "Python 3",
   "language": "python",
   "name": "python3"
  },
  "language_info": {
   "codemirror_mode": {
    "name": "ipython",
    "version": 3
   },
   "file_extension": ".py",
   "mimetype": "text/x-python",
   "name": "python",
   "nbconvert_exporter": "python",
   "pygments_lexer": "ipython3",
   "version": "3.10.0"
  }
 },
 "nbformat": 4,
 "nbformat_minor": 5
}
